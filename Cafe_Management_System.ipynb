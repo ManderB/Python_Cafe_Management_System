{
 "cells": [
  {
   "cell_type": "code",
   "execution_count": 13,
   "id": "65b6c57c-1042-4767-9616-3820bc7ad7b2",
   "metadata": {},
   "outputs": [
    {
     "name": "stdout",
     "output_type": "stream",
     "text": [
      "Welcome to the Brew Heaven Cafe\n",
      "Morning Bliss Blend : 9.89\n",
      "Sunrise Sip : 8.49\n",
      "Arabica Dream : 7.49\n",
      "Mocha Magic : 7.49\n",
      "Espresso Euphoria : 7.89\n",
      "Caramel Craze : 7.59\n",
      "Hazelnut Heaven : 7.59\n",
      "Vanilla Velvet Rush : 7.59\n"
     ]
    },
    {
     "name": "stdin",
     "output_type": "stream",
     "text": [
      "Enter the name of item tht you want to order =  Mocha Magic\n"
     ]
    },
    {
     "name": "stdout",
     "output_type": "stream",
     "text": [
      "Your item Mocha Magic has been added to your Order\n"
     ]
    },
    {
     "name": "stdin",
     "output_type": "stream",
     "text": [
      "Do you want to add another item? Yes\n",
      "Enter the name of second item =  Caramel Craze\n"
     ]
    },
    {
     "name": "stdout",
     "output_type": "stream",
     "text": [
      "Item Caramel Crazehas been added to your order\n",
      "The total amount of the order is to pay 15.08\n"
     ]
    }
   ],
   "source": [
    "#Describe Menu\n",
    "menu = {\n",
    "    'Morning Bliss Blend' : 9.89,\n",
    "    'Sunrise Sip' : 8.49,\n",
    "    'Arabica Dream' : 7.49,\n",
    "    'Mocha Magic' : 7.49,\n",
    "    'Espresso Euphoria' : 7.89,\n",
    "    'Caramel Craze' : 7.59,\n",
    "    'Hazelnut Heaven' : 7.59,\n",
    "    'Vanilla Velvet Rush' : 7.59\n",
    "}\n",
    "#Greet the customer\n",
    "print(\"Welcome to the Brew Heaven Cafe\")\n",
    "print(\"Morning Bliss Blend : 9.89\\nSunrise Sip : 8.49\\nArabica Dream : 7.49\\nMocha Magic : 7.49\\nEspresso Euphoria : 7.89\\nCaramel Craze : 7.59\\nHazelnut Heaven : 7.59\\nVanilla Velvet Rush : 7.59\")\n",
    "\n",
    "total_order = 0\n",
    "item_1 = input(\"Enter the name of item that you want to order = \")\n",
    "if item_1 in menu:\n",
    "    total_order += menu[item_1]\n",
    "    print(f\"Your item {item_1} has been added to your Order\")\n",
    "else:\n",
    "    print(f\"Ordered item {item_1} is not avaliable at the moment!\")\n",
    "\n",
    "another_item = input(\"Do you want to add another item?\")\n",
    "if another_item == \"Yes\":\n",
    "    item_2 = input(\"Enter the name of second item = \")\n",
    "    if item_2 in menu:\n",
    "        total_order += menu[item_2]\n",
    "        print(f\"Item {item_2}has been added to your order\")\n",
    "    else:\n",
    "        print(f\"Ordered item {item_2} is not available at the moment!\")\n",
    "\n",
    "print(f\"The total amount of the order is to pay {total_order}\")"
   ]
  },
  {
   "cell_type": "code",
   "execution_count": null,
   "id": "bc19a8a5-e4f6-4d2f-a244-0d6f28b41726",
   "metadata": {},
   "outputs": [],
   "source": []
  }
 ],
 "metadata": {
  "kernelspec": {
   "display_name": "Python 3 (ipykernel)",
   "language": "python",
   "name": "python3"
  },
  "language_info": {
   "codemirror_mode": {
    "name": "ipython",
    "version": 3
   },
   "file_extension": ".py",
   "mimetype": "text/x-python",
   "name": "python",
   "nbconvert_exporter": "python",
   "pygments_lexer": "ipython3",
   "version": "3.12.0"
  }
 },
 "nbformat": 4,
 "nbformat_minor": 5
}
